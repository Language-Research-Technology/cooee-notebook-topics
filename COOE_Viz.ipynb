{
 "cells": [
  {
   "cell_type": "markdown",
   "id": "db0ff5d7-34a2-400d-8dfb-3d99def3de50",
   "metadata": {},
   "source": [
    "# Word frequency across time and register in 19th century Australian English"
   ]
  },
  {
   "cell_type": "markdown",
   "id": "c978789e-3c11-48bd-afc6-71c4ae982450",
   "metadata": {},
   "source": [
    "The Corpus of Oz Early English (COOEE) is a collection of textual material produced in Australia between 1788 and 1900. It is divided into four time periods (1788-1825, 1826-1850, 1851-1875, 1876-1900) and four registers (Private Written, Public Written, Government English, Speech Based). This notebook generates plots of the relative frequency of occurrence of words across the four time periods, showing frequency for each register separately. \n",
    "\n",
    "We will use the ggplot2 package to produce the visualisation. If you do not have the package installed, you will need to run the line of code in the next cell. After the package is installed, you can then go to the second following cell. If you already have ggplot2 installed, you can skip the immediately following cell."
   ]
  },
  {
   "cell_type": "code",
   "execution_count": null,
   "id": "16d43f36-c801-42fd-ad2e-5d4bad6b47e3",
   "metadata": {},
   "outputs": [],
   "source": [
    "# install the package if you need to\n",
    "install.packages(\"ggplot2\")"
   ]
  },
  {
   "cell_type": "code",
   "execution_count": 82,
   "id": "5d6672d5-5761-4d61-8306-588f7eff7a4b",
   "metadata": {},
   "outputs": [],
   "source": [
    "# activate the package\n",
    "library(ggplot2)"
   ]
  },
  {
   "cell_type": "markdown",
   "id": "759cd7f3-3ae8-4560-96d8-a5c5a37e9685",
   "metadata": {},
   "source": [
    "The basic data for this exercise is frequency lists for each of the 16 sub-corpora of COOEE which can be specified by the design of the corpus. More specifically, the frequencies are **normalised** per 10,000 tokens so that the numbers can be compared meaningfully. The data is provided as a csv file, and the next cell reads the data into R and displays the structure of the resulting data frame."
   ]
  },
  {
   "cell_type": "code",
   "execution_count": 83,
   "id": "05477d43-a583-428b-b203-bb2e0541aeee",
   "metadata": {},
   "outputs": [
    {
     "name": "stdout",
     "output_type": "stream",
     "text": [
      "'data.frame':\t16 obs. of  3971 variables:\n",
      " $ X                  : int  1 2 3 4 5 6 7 8 9 10 ...\n",
      " $ dear               : num  1.79 0 0 0 0 ...\n",
      " $ sir                : num  3.57 0 0 0 1.62 ...\n",
      " $ ni                 : num  1.79 0 0 0 3.24 ...\n",
      " $ pleasure           : num  0.893 0 0 0 0 ...\n",
      " $ sending            : num  0.893 0 0 0 0 ...\n",
      " $ seeds              : num  2.68 0 0 0 0 ...\n",
      " $ gladly             : num  0.893 0 0 0 0 ...\n",
      " $ sent               : num  1.79 1.72 0 3.64 0 ...\n",
      " $ larger             : num  0.893 0 0 0 0.81 ...\n",
      " $ quantity           : num  0.893 0 0 0 0 ...\n",
      " $ person             : num  0.893 0.859 0 0 3.239 ...\n",
      " $ employed           : num  0.893 0 0 0 0 ...\n",
      " $ either             : num  0.893 0 0 0 0 ...\n",
      " $ neglected          : num  0.893 0 0 0 0 ...\n",
      " $ collecting         : num  0.893 0 0 0 0 ...\n",
      " $ proper             : num  0.893 3.438 0 0 0 ...\n",
      " $ time               : num  0.893 5.157 3.623 1.819 3.239 ...\n",
      " $ late               : num  0.893 0 0.906 0 1.619 ...\n",
      " $ season             : num  1.79 0 2.72 0 0.81 ...\n",
      " $ kanguroo           : num  0.893 0 0 0 0 ...\n",
      " $ stuffed            : num  0.893 0 0 0 0 ...\n",
      " $ alarm              : num  0.893 0 0 0 0 ...\n",
      " $ lady               : num  1.786 0 0 0.909 0.81 ...\n",
      " $ banks              : num  1.79 0 0 0 0.81 ...\n",
      " $ will               : num  5.36 0 6.34 0 24.29 ...\n",
      " $ observe            : num  0.893 0 0 0 0 ...\n",
      " $ feet               : num  0.893 0 0 0 0 ...\n",
      " $ different          : num  0.893 1.719 0 0 0 ...\n",
      " $ described          : num  0.893 0 0 0 0 ...\n",
      " $ voyage             : num  1.786 0.859 0.906 0 0 ...\n",
      " $ animals            : num  0.893 0 0 0 0 ...\n",
      " $ numerous           : num  1.79 0 0 0 0.81 ...\n",
      " $ fired              : num  0.893 0 0 0 0.81 ...\n",
      " $ grow               : num  1.79 0 0 0 0 ...\n",
      " $ shy                : num  0.893 0 0 0 0 ...\n",
      " $ stones             : num  0.893 0 0 0 0 ...\n",
      " $ w.ch               : num  0.893 0 0 0 0 ...\n",
      " $ send               : num  1.786 0 0 0.909 0 ...\n",
      " $ account            : num  2.68 0 1.81 0 0.81 ...\n",
      " $ appearance         : num  0.893 2.578 0 0 1.619 ...\n",
      " $ metal              : num  0.893 0 0 0 0 ...\n",
      " $ ochre              : num  0.893 0 0 0 0 ...\n",
      " $ found              : num  2.678 1.719 0.906 0 1.619 ...\n",
      " $ bed                : num  0.893 0 0 0 0 ...\n",
      " $ river              : num  1.79 0 1.81 0 0.81 ...\n",
      " $ rainy              : num  0.893 0 1.811 0 0 ...\n",
      " $ runs               : num  0.893 0 0.906 0 0 ...\n",
      " $ thro               : num  0.893 0 0 0 0 ...\n",
      " $ slate              : num  1.79 0 0 0 0 ...\n",
      " $ quarry             : num  0.893 0 0 0 0 ...\n",
      " $ according          : num  0.893 0 0 0 0 ...\n",
      " $ information        : num  0.893 0.859 0.906 0 0 ...\n",
      " $ slater             : num  0.893 0 0 0 0 ...\n",
      " $ fitt               : num  0.893 0 0 0 0 ...\n",
      " $ use                : num  0.893 0 0 0.909 0 ...\n",
      " $ rotten             : num  0.893 0 0 0 0 ...\n",
      " $ split              : num  0.893 0 0 0 0 ...\n",
      " $ skin               : num  0.893 0 0 0 0 ...\n",
      " $ bird               : num  0.893 0 0 0 0 ...\n",
      " $ ld                 : num  0.893 0 0 0 0 ...\n",
      " $ sydney             : num  1.79 1.72 0 0 4.86 ...\n",
      " $ may                : num  1.786 0.859 0.906 0 6.477 ...\n",
      " $ merit              : num  0.893 0 0 0 0.81 ...\n",
      " $ attention          : num  0.893 0 0.906 0 0.81 ...\n",
      " $ differs            : num  0.893 0 0 0 0 ...\n",
      " $ ostrich            : num  0.893 0 0 0 0 ...\n",
      " $ emu                : num  0.893 0 0 0 0 ...\n",
      " $ seen               : num  6.249 0 0.906 0 0 ...\n",
      " $ several            : num  1.79 2.58 0 0 1.62 ...\n",
      " $ difficult          : num  0.893 0 0.906 0 0 ...\n",
      " $ get                : num  1.79 0 0 1.82 0 ...\n",
      " $ within             : num  0.893 0.859 0 0 0 ...\n",
      " $ shot               : num  0.893 0 0 0 0.81 ...\n",
      " $ black              : num  1.79 0 0 0 0 ...\n",
      " $ swans              : num  0.893 0 0 0 0 ...\n",
      " $ frequently         : num  0.893 0 0 0 0.81 ...\n",
      " $ one                : num  6.249 2.578 0 0.909 8.906 ...\n",
      " $ killed             : num  1.79 0 0 0 0 ...\n",
      " $ situation          : num  1.79 3.44 1.81 0 0.81 ...\n",
      " $ penis              : num  0.893 0 0 0 0 ...\n",
      " $ kangurroo          : num  0.893 0 0 0 0 ...\n",
      " $ appears            : num  0.893 0 0 0 1.619 ...\n",
      " $ uncommon           : num  0.893 0 0 0 0 ...\n",
      " $ anus               : num  0.893 0 0 0 0 ...\n",
      " $ testicles          : num  0.893 0 0 0 0 ...\n",
      " $ close              : num  0.893 0 0 0 0 ...\n",
      " $ former             : num  0.893 0 0 0 1.619 ...\n",
      " $ animal             : num  0.893 0 0 0 0 ...\n",
      " $ grows              : num  1.79 0 0 0 0.81 ...\n",
      " $ great              : num  2.678 1.719 1.811 0.909 8.906 ...\n",
      " $ size               : num  0.893 0 0 0 0 ...\n",
      " $ weighed            : num  0.893 0 0 0 0 ...\n",
      " $ near               : num  1.786 0.859 0 0 0.81 ...\n",
      " $ two                : num  4.46 1.72 0 1.82 4.86 ...\n",
      " $ hundred            : num  2.678 0.859 0 0 0.81 ...\n",
      " $ weight             : num  0.893 0 0 0 0 ...\n",
      " $ dead               : num  0.893 0 0 0 0.81 ...\n",
      " $ woods              : num  0.893 0 0.906 0 0 ...\n",
      "  [list output truncated]\n"
     ]
    }
   ],
   "source": [
    "# read data from file - specify path to local copy of data file\n",
    "cooee_data <- read.csv(\"F:/Corpus Data/COOEE/cooee_slices_normalised_freq.csv\")\n",
    "str(cooee_data)"
   ]
  },
  {
   "cell_type": "markdown",
   "id": "9b425f4a-2bba-42d7-a1db-8a465278badb",
   "metadata": {},
   "source": [
    "ggplot needs the data to be in a particular structure in order to plot a line graph with multiple lines. The next code cell lets you enter a word as the target for a plot and checks whether that word occurs in the data set. If the word is present, a dataframe (table) with the relevant data in the required structure is produced and displayed."
   ]
  },
  {
   "cell_type": "code",
   "execution_count": 84,
   "id": "3fdb1c24-1393-42cd-a5a2-c6b13e99894c",
   "metadata": {},
   "outputs": [
    {
     "data": {
      "text/html": [
       "<table class=\"dataframe\">\n",
       "<caption>A data.frame: 16 × 3</caption>\n",
       "<thead>\n",
       "\t<tr><th scope=col>time</th><th scope=col>register</th><th scope=col>norm_freq</th></tr>\n",
       "\t<tr><th scope=col>&lt;chr&gt;</th><th scope=col>&lt;chr&gt;</th><th scope=col>&lt;chr&gt;</th></tr>\n",
       "</thead>\n",
       "<tbody>\n",
       "\t<tr><td>1</td><td>Private Written   </td><td>4.46388715293277 </td></tr>\n",
       "\t<tr><td>1</td><td>Public Written    </td><td>3.43790287924366 </td></tr>\n",
       "\t<tr><td>1</td><td>Government English</td><td>4.52816518746604 </td></tr>\n",
       "\t<tr><td>1</td><td>Speech Based      </td><td>0                </td></tr>\n",
       "\t<tr><td>2</td><td>Private Written   </td><td>6.47720832321269 </td></tr>\n",
       "\t<tr><td>2</td><td>Public Written    </td><td>4.16181122024305 </td></tr>\n",
       "\t<tr><td>2</td><td>Government English</td><td>0.904404449669892</td></tr>\n",
       "\t<tr><td>2</td><td>Speech Based      </td><td>1.65727543917799 </td></tr>\n",
       "\t<tr><td>3</td><td>Private Written   </td><td>0                </td></tr>\n",
       "\t<tr><td>3</td><td>Public Written    </td><td>0.900414190527643</td></tr>\n",
       "\t<tr><td>3</td><td>Government English</td><td>0                </td></tr>\n",
       "\t<tr><td>3</td><td>Speech Based      </td><td>8.31946755407654 </td></tr>\n",
       "\t<tr><td>4</td><td>Private Written   </td><td>0                </td></tr>\n",
       "\t<tr><td>4</td><td>Public Written    </td><td>0                </td></tr>\n",
       "\t<tr><td>4</td><td>Government English</td><td>3.3167495854063  </td></tr>\n",
       "\t<tr><td>4</td><td>Speech Based      </td><td>7.3106095220689  </td></tr>\n",
       "</tbody>\n",
       "</table>\n"
      ],
      "text/latex": [
       "A data.frame: 16 × 3\n",
       "\\begin{tabular}{lll}\n",
       " time & register & norm\\_freq\\\\\n",
       " <chr> & <chr> & <chr>\\\\\n",
       "\\hline\n",
       "\t 1 & Private Written    & 4.46388715293277 \\\\\n",
       "\t 1 & Public Written     & 3.43790287924366 \\\\\n",
       "\t 1 & Government English & 4.52816518746604 \\\\\n",
       "\t 1 & Speech Based       & 0                \\\\\n",
       "\t 2 & Private Written    & 6.47720832321269 \\\\\n",
       "\t 2 & Public Written     & 4.16181122024305 \\\\\n",
       "\t 2 & Government English & 0.904404449669892\\\\\n",
       "\t 2 & Speech Based       & 1.65727543917799 \\\\\n",
       "\t 3 & Private Written    & 0                \\\\\n",
       "\t 3 & Public Written     & 0.900414190527643\\\\\n",
       "\t 3 & Government English & 0                \\\\\n",
       "\t 3 & Speech Based       & 8.31946755407654 \\\\\n",
       "\t 4 & Private Written    & 0                \\\\\n",
       "\t 4 & Public Written     & 0                \\\\\n",
       "\t 4 & Government English & 3.3167495854063  \\\\\n",
       "\t 4 & Speech Based       & 7.3106095220689  \\\\\n",
       "\\end{tabular}\n"
      ],
      "text/markdown": [
       "\n",
       "A data.frame: 16 × 3\n",
       "\n",
       "| time &lt;chr&gt; | register &lt;chr&gt; | norm_freq &lt;chr&gt; |\n",
       "|---|---|---|\n",
       "| 1 | Private Written    | 4.46388715293277  |\n",
       "| 1 | Public Written     | 3.43790287924366  |\n",
       "| 1 | Government English | 4.52816518746604  |\n",
       "| 1 | Speech Based       | 0                 |\n",
       "| 2 | Private Written    | 6.47720832321269  |\n",
       "| 2 | Public Written     | 4.16181122024305  |\n",
       "| 2 | Government English | 0.904404449669892 |\n",
       "| 2 | Speech Based       | 1.65727543917799  |\n",
       "| 3 | Private Written    | 0                 |\n",
       "| 3 | Public Written     | 0.900414190527643 |\n",
       "| 3 | Government English | 0                 |\n",
       "| 3 | Speech Based       | 8.31946755407654  |\n",
       "| 4 | Private Written    | 0                 |\n",
       "| 4 | Public Written     | 0                 |\n",
       "| 4 | Government English | 3.3167495854063   |\n",
       "| 4 | Speech Based       | 7.3106095220689   |\n",
       "\n"
      ],
      "text/plain": [
       "   time register           norm_freq        \n",
       "1  1    Private Written    4.46388715293277 \n",
       "2  1    Public Written     3.43790287924366 \n",
       "3  1    Government English 4.52816518746604 \n",
       "4  1    Speech Based       0                \n",
       "5  2    Private Written    6.47720832321269 \n",
       "6  2    Public Written     4.16181122024305 \n",
       "7  2    Government English 0.904404449669892\n",
       "8  2    Speech Based       1.65727543917799 \n",
       "9  3    Private Written    0                \n",
       "10 3    Public Written     0.900414190527643\n",
       "11 3    Government English 0                \n",
       "12 3    Speech Based       8.31946755407654 \n",
       "13 4    Private Written    0                \n",
       "14 4    Public Written     0                \n",
       "15 4    Government English 3.3167495854063  \n",
       "16 4    Speech Based       7.3106095220689  "
      ]
     },
     "metadata": {},
     "output_type": "display_data"
    }
   ],
   "source": [
    "# enter word as target for visualisation\n",
    "\n",
    "target <- \"country\"\n",
    "\n",
    "if (target %in% colnames(cooee_data)) {\n",
    "# get the index of the column corresponding to the target word\n",
    "    search_target <- paste0('^', target, '$')\n",
    "    column_index <- grep(search_target, colnames(cooee_data))\n",
    "    #retrieve data\n",
    "    plot_data <- cooee_data[, column_index]\n",
    "    plot_data <- rbind(plot_data, cooee_data$time_period)\n",
    "    plot_data <- rbind(plot_data, cooee_data$text_register)\n",
    "\n",
    "    #transpose data frame, add column names and reorder columns\n",
    "    plot_data_long <- as.data.frame(t(plot_data))\n",
    "    colnames(plot_data_long) <- c('norm_freq', 'time', 'register')\n",
    "    plot_data_long <- plot_data_long[, c(2,3,1)]\n",
    "    plot_data_long\n",
    "    } else {\n",
    "    print('That word does not occur in the data set')\n",
    "}\n",
    "\n",
    "\n",
    "\n"
   ]
  },
  {
   "cell_type": "markdown",
   "id": "2c3226a6-bd6d-4a9f-bab5-abe40b7c1cb7",
   "metadata": {},
   "source": [
    "The final cell calls ggplot to generate a visualisation of the data."
   ]
  },
  {
   "cell_type": "code",
   "execution_count": 85,
   "id": "11c6a722-7d15-4f97-9912-d9cee24d7889",
   "metadata": {},
   "outputs": [
    {
     "data": {
      "image/png": "[encoded data removed]",
      "text/plain": [
       "plot without title"
      ]
     },
     "metadata": {
      "image/png": {
       "height": 600,
       "width": 1200
      }
     },
     "output_type": "display_data"
    }
   ],
   "source": [
    "# plot the data\n",
    "\n",
    "time_labels <- c('1788-1825', '1826-1850', '1851-1875', '1876-1900')\n",
    "title <- paste0(\"Normalised frequency of occurrence of '\", target, \"'\")\n",
    "\n",
    "options(repr.plot.width = 20, repr.plot.height =10)\n",
    "ggplot(plot_data_long, aes(x = time, y = norm_freq, col = register, group = register)) + \n",
    "  geom_line() + labs(x = \"Time Period\", y = \"Normalised Frequency (per 10k tokens)\") + scale_x_discrete(labels= time_labels) + ggtitle(title)"
   ]
  }
 ],
 "metadata": {
  "kernelspec": {
   "display_name": "R",
   "language": "R",
   "name": "ir"
  },
  "language_info": {
   "codemirror_mode": "r",
   "file_extension": ".r",
   "mimetype": "text/x-r-source",
   "name": "R",
   "pygments_lexer": "r",
   "version": "4.4.1"
  }
 },
 "nbformat": 4,
 "nbformat_minor": 5
}
